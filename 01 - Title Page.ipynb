{
 "cells": [
  {
   "cell_type": "markdown",
   "metadata": {},
   "source": [
    "# Large Title\n",
    "## Smaller Title\n",
    "\n",
    "Normal Text\n",
    "\n",
    "```\n",
    "Code Type text\n",
    "```\n",
    "\n",
    "[Link Type Text](https://www.google.com)\n",
    "\n",
    "[Markdown Language Syntax](https://help.github.com/articles/basic-writing-and-formatting-syntax/)"
   ]
  }
 ],
 "metadata": {
  "kernelspec": {
   "display_name": "Python 3",
   "language": "python",
   "name": "python3"
  },
  "language_info": {
   "codemirror_mode": {
    "name": "ipython",
    "version": 3
   },
   "file_extension": ".py",
   "mimetype": "text/x-python",
   "name": "python",
   "nbconvert_exporter": "python",
   "pygments_lexer": "ipython3",
   "version": "3.6.3"
  }
 },
 "nbformat": 4,
 "nbformat_minor": 2
}
