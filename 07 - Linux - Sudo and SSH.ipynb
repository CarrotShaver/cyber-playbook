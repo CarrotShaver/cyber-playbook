{
 "cells": [
  {
   "cell_type": "markdown",
   "metadata": {},
   "source": [
    "# Sudo\n",
    "\n",
    "\"**su**per **u**ser **do**\"\n",
    "- CLI command that allows a user to act as root and run commands as the super user\n",
    "    - Admin can give certain users the sudo for some (or all) commands\n",
    "    - Leaves an audit trail of the user's commands and arguments when using sudo\n",
    "    \n",
    "**How to see if a user has/needs sudo access**\n",
    "- Using the **groups _username_** command in CLI show what groups a user is in\n",
    "- Checking the ls of directories will show the user who created a directory\n",
    "    - If the directory is root, a user will need sudo to access it\n",
    "- If a user without sudo access attempts to use sudo an alert will be sent to log file\n",
    "    - Error: \"_username_ is not in the sudeoers file.  This incident will be reported.\"\n",
    "    - Log file can be viewed at **sudo tail /var/log/auth.log**\n",
    "        - Can add the **tail -f** flag to constantly monitor the log file\n",
    "\n",
    "**Creating a new sudo user**\n",
    "- Use the CLI command **sudo adduser _username_**\n",
    "- Add sudo to a user with **sudo usermod -aG sudo _username_**\n",
    "    - Will give a user full sudo access, which is usually not wanted\n",
    "- Give a user sudo access to certain services\n",
    "    - All services have their own name\n",
    "    - Example: Giving access to ssh restart\n",
    "        - **sudo _username_ service ssh restart**\n",
    "    - Better way is to edit the sudoers file\n",
    "        \n",
    "**Editing the sudoers file**\n",
    "- Open with **sudo visudo** CLI command to open with vim\n",
    "    - Can use this file to edit the permissions of sudo for users and groups\n",
    "    - Turning on insults in the visudo file\n",
    "        - In the Defaults, add a **Defaults insults** line\n",
    "    - Syntax:\n",
    "        - _username_ ALL=(_userpermissionto_[usually root]) _filelocation_\n",
    "        - can use %_groupname_ for a group instead of user (just prefix with the '%' sign)\n",
    "    - To use this file well, you'd need to know where all the command files are \n",
    "        - Many of these are in **usr/local** or **usr/lib**\n",
    "        - Can use the **man hier** command to view the file hierarchy and directory's functions\n",
    "\n",
    "# SSH\n",
    "\n",
    "- What is SSH?\n",
    "    - Allows a user to connect to a server remotely through a terminal\n",
    "    - private/public key pair is needed\n",
    "- Make sure SSH is installed\n",
    "    - Can check for install with **sudo service ssh status**\n",
    "    - If there is no install, install with: **sudo apt-get install openssh-server**\n",
    "- Create a private and public key to use with an ssh for a user: **ssh-keygen**\n",
    "- ssh-add/ssh-add -t\n",
    "   - Adds to RAM so you don't have to enter password multiple times\n",
    "   - **ssh-add -t 10m** will add to ssh-agent for 10 minutes\n",
    "- **ssh-add -D** to delete any keys from memory\n",
    "- Connect to a host\n",
    "    - Can use CLI command **ssh-copy-id _username_@_ipaddress_** then enter the user password\n",
    "        - This will allow someone to use ssh without having to set up the .ssh file\n",
    "    - May be able to connect by just using the **ssh _username_@_ipaddress_** command"
   ]
  }
 ],
 "metadata": {
  "kernelspec": {
   "display_name": "Python 3",
   "language": "python",
   "name": "python3"
  },
  "language_info": {
   "codemirror_mode": {
    "name": "ipython",
    "version": 3
   },
   "file_extension": ".py",
   "mimetype": "text/x-python",
   "name": "python",
   "nbconvert_exporter": "python",
   "pygments_lexer": "ipython3",
   "version": "3.6.3"
  }
 },
 "nbformat": 4,
 "nbformat_minor": 2
}
