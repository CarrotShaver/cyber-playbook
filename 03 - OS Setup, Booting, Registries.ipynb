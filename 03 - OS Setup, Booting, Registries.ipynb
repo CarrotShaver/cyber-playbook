{
 "cells": [
  {
   "cell_type": "markdown",
   "metadata": {},
   "source": [
    "# Dual/Multiple OS Boot and Bootloaders/managers\n",
    "\n",
    "### Operating Systems:\n",
    "\n",
    "1. Linux\n",
    "    - Use GRUB as a boot manager\n",
    "    - Can be targeted by viruses to corrupt or damage the boot record\n",
    "        - Use recovery utilities to revert to previous copies of the boot record\n",
    "\n",
    "2. Windows\n",
    "    - Can view boot record in DOS\n",
    "        - Use the bcdedit /enum to view boot loader and information\n",
    "        ```\n",
    "        C:\\system32> bcdedit /enum\n",
    "        ```\n",
    "        - Access will be denied if not root user with admin priveleges\n",
    "    \n",
    "**Checking Registries in Windows**\n",
    "    \n",
    "    \n",
    "    1. Make sure that hidden files/folders and drives are shown\n",
    "        - Open File Explorer as Admin, go to options->Scroll to File options and check radio button for hidden files\n",
    "    \n",
    "    2. Can use the regedit tool to manage and access the registry\n",
    "        - Tool should be used extremely carefully with a backup of systems and files in case you seriously mess stuff up\n",
    "        - 5 Root Keys (labeled with HKEY)\n",
    "            Some information on important hkeys:\n",
    "            - HKEY_CURRENT_USER: settings for the current user (when using a computer with multiple users), especially used at enterprise level\n",
    "            - HKEY_LOCAL_MACHINE: \"Heart of everything\"\n",
    "                - Contains files like \"SAM\", \"SECURITY\", \"SOFTWARE\"\n",
    "                - Everything about installed software, settings stored in the Local Machine **subkeys**\n",
    "                - Often targeted root key by viruses due to association values attached to software\n",
    "            - HKEY_USERS\n",
    "                - Contains data used to load HKEY_CURRENT_USER\n",
    "                - usrClass.dat file\n",
    "            \n",
    "    "
   ]
  }
 ],
 "metadata": {
  "kernelspec": {
   "display_name": "Python 3",
   "language": "python",
   "name": "python3"
  },
  "language_info": {
   "codemirror_mode": {
    "name": "ipython",
    "version": 3
   },
   "file_extension": ".py",
   "mimetype": "text/x-python",
   "name": "python",
   "nbconvert_exporter": "python",
   "pygments_lexer": "ipython3",
   "version": "3.6.3"
  }
 },
 "nbformat": 4,
 "nbformat_minor": 2
}
