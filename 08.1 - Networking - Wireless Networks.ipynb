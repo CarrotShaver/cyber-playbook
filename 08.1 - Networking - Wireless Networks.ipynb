{
 "cells": [
  {
   "cell_type": "markdown",
   "metadata": {},
   "source": [
    "# Wireless Networks\n",
    "- Connections are based on using the same frequency to transmit and receive (usually using half-duplex)\n",
    "- Transmission over radio frequency, regulated by same laws that govern things like AM/FM (FCC)\n",
    "    - **802.11** - specifications developed for wireless internet\n",
    "        - Transfer rate should be 1 Mbps to 2 Mbps\n",
    "- 3 unlicensed bands for public use: 900MHz, 2.4GHz, and 5GHz\n",
    "    - 900 & 2.4 are industrial, scientific, and medial (ISM)\n",
    "    - 5 GHz known as Unlicensed National Information Infrastructure (UNII) band\n",
    "        - Higher data rates 54Mbits/second\n",
    "- Silver and blue sticker that says Wi-Fi = Wireless Fidelity which means it passes certification tested for 802.11 interoperability by the wi-fi alliance\n",
    "- Carrier Sense Multiple Access with Coliision Avoidance (CSMA/CA)\n",
    "    - Similar to a TCP 3 way handshake, called a request to send, clear to send because of the way that hosts must communicate to the access point, used to solve ethernet collisions\n",
    "    - Used by 802.11g (\"big brother\" to 802.11b)\n",
    "- 2.4GHz communicates on multiple channels\n",
    "\n",
    "**Access Points**\n",
    "- Connects wireless devices together and allows them to communicate in a WLAN\n",
    "- Connects to a wired router, switch, or hub via Ethernet cable, and projects a Wi-Fi signal to a designated area\n",
    "- Can be standalone AP, or ones that also include a built-in router\n",
    "\n",
    "**NIC**\n",
    "- Network Interface Card - used to connect to a network wirelessly\n",
    "- Communicate via radio antenna with microwave radiation, and can use an external nic to increase signal\n",
    "- On physical and data link layers\n",
    "\n",
    "**netsh**\n",
    "Command CLI for managing the network (network shell)\n",
    "```\n",
    "netsh wlan show profiles\n",
    "```\n",
    "- shows user profiles of wifi's connected to\n",
    "```\n",
    "netsh wlan show interfaces\n",
    "```\n",
    "- shows the settings for the wifi device currently connected to\n",
    "```\n",
    "netsh interface dump > netinfo.dat\n",
    "```\n",
    "- Command that allows you to generate a script to regenerate any changes made to the network\n",
    "```\n",
    "netsh exec netinfo.dat\n",
    "```\n",
    "- Runs the script created through the interface dump\n",
    "```\n",
    "netsh dhcp dump\n",
    "```\n",
    "- Similar to interface dump, creates script to save dhcp settings\n",
    "```\n",
    "netsh wlan show profiles name=\"WIFINAME\" key=clear\n",
    "```\n",
    "- Command that can show the security key of WPA2 in clear text\n",
    "```\n",
    "netsh advfirewall show allprofiles\n",
    "```\n",
    "- Command that shows the windows firewall settings"
   ]
  }
 ],
 "metadata": {
  "kernelspec": {
   "display_name": "Python 3",
   "language": "python",
   "name": "python3"
  },
  "language_info": {
   "codemirror_mode": {
    "name": "ipython",
    "version": 3
   },
   "file_extension": ".py",
   "mimetype": "text/x-python",
   "name": "python",
   "nbconvert_exporter": "python",
   "pygments_lexer": "ipython3",
   "version": "3.6.3"
  }
 },
 "nbformat": 4,
 "nbformat_minor": 2
}
