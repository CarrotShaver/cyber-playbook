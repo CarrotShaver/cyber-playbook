{
 "cells": [
  {
   "cell_type": "markdown",
   "metadata": {},
   "source": [
    "# Basic Steps\n",
    "1. Reconnaissance\n",
    "2. Scanning\n",
    "3. Exploitation\n",
    "4. Post exploitation and maintaining access\n",
    "5. Review/Write up\n",
    "\n",
    "### Recon\n",
    "- Information gathering\n",
    "- Pay attention to job openings:\n",
    "    - Openings for jobs like system admins might say they want experience in specific OS or software to exploit\n",
    "**Tools**\n",
    "- HTTRACK - copies websites\n",
    "- Google - Good searches\n",
    "- The Harvester (Python tool for cataloguing e-mail addresses and subdomains related to target\n",
    "- `whois` - command used to find information on a dns or ip\n",
    "- `nslookup` - examine dns and query dns servers to potentially obtain records about the various hosts that it is aware of\n",
    "- `dig` - extract dns info, zone transfers\n",
    "- Netcraft.com - Find information on a domain\n",
    "- `host` - on an ip address\n",
    "- Fierce - extract dns info when zone transfer fails\n",
    "- Metagoofil - metadata extraction tool\n",
    "- Shodan\n",
    "- Social Engineering\n",
    "- Maltego\n",
    "- Swiss Army Knife Internet Tool\n",
    "\n",
    "### Scanning\n",
    "- See Ch10 Network Security Tools for Nmap commands\n",
    "**Nmap Scripting**\n",
    "- Go to https://nmap.org/nsedoc/ to see scripts and categories for nmap\n",
    "- Kali has most scripts pre-installed, check /usr/share/nmap/scripts\n",
    "- To use a script `nmap --script scriptname target`"
   ]
  }
 ],
 "metadata": {
  "kernelspec": {
   "display_name": "Python 3",
   "language": "python",
   "name": "python3"
  },
  "language_info": {
   "codemirror_mode": {
    "name": "ipython",
    "version": 3
   },
   "file_extension": ".py",
   "mimetype": "text/x-python",
   "name": "python",
   "nbconvert_exporter": "python",
   "pygments_lexer": "ipython3",
   "version": "3.6.3"
  }
 },
 "nbformat": 4,
 "nbformat_minor": 2
}
