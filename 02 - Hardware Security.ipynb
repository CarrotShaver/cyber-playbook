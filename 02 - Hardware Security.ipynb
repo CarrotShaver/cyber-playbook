{
 "cells": [
  {
   "cell_type": "code",
   "execution_count": null,
   "metadata": {
    "collapsed": true
   },
   "outputs": [],
   "source": [
    "#Securing Hardware on Setup\n",
    "\n",
    "Some considerations for or steps to use when setting up basic PC hardware security\n",
    "1. BIOS Boot Password\n",
    "    - Set up a password through the BIOS which requires login on every bootup\n",
    "    - This will prevent anyone from getting to the OS software by having to login at BIOS step\n",
    "    - If needing reset due to forgotten password:\n",
    "        - Will require a second computer with internet access\n",
    "            - After three failed logins, the option to send password to a secondary computer on the network will be available\n",
    "        - If no secondary computer present: Remove MB battery for ~15 minutes (will cause battery to lose all power)\n",
    "            - Reinsert battery and all MB settings will be reset including the password\n",
    "\n",
    "2. If using a data center with server cabinets\n",
    "    - Having physical access to servers/computers would allow someone to take advantage of the above vulnerability\n",
    "    - Make sure to lock cabinets using a lock requiring a key (preferably physical key)\n",
    "\n",
    "3. Lock down boot order BIOS as well to stop users from changing the BIOS settings\n",
    "\n",
    "4. Drive encryption \n",
    "\n",
    "5. TLM or Trusted Platform Module (TPM)"
   ]
  }
 ],
 "metadata": {
  "kernelspec": {
   "display_name": "Python 3",
   "language": "python",
   "name": "python3"
  },
  "language_info": {
   "codemirror_mode": {
    "name": "ipython",
    "version": 3
   },
   "file_extension": ".py",
   "mimetype": "text/x-python",
   "name": "python",
   "nbconvert_exporter": "python",
   "pygments_lexer": "ipython3",
   "version": "3.6.3"
  }
 },
 "nbformat": 4,
 "nbformat_minor": 2
}
