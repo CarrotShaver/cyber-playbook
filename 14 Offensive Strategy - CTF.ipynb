{
 "cells": [
  {
   "cell_type": "markdown",
   "metadata": {},
   "source": [
    "# Recon\n",
    "\n",
    "**Track data found**\n",
    "- Make sure to open a text file to write any pertinent information on\n",
    "\n",
    "**Finding the IP of the target**\n",
    "- Ping scan for users on a network: `nmap -sP 10.0.1.*`\n",
    "- Figure out which IPs are not the target:\n",
    "    - Finding your default gateway: `route -n`\n",
    "    - Find the DHCP server: `sudo grep -R \"DHCPOFFER\" /var/log/*`\n",
    "    \n",
    "**Scanning the target**\n",
    "- Option 1: Using zenmap: enter the target IP using various scans\n",
    "- Option 2: Using nmap: `nmap -A 10.0.1.2` will do an aggressive scan\n",
    "    - Scan for TCP ports within 1-1000: `nmap -sT -p1-1000 10.0.1.2`\n",
    "    - You can also scan for UDP ports with the `nmap -sU -p1-1000 10.0.1.2` command (ports 1-1000)\n",
    "- What you should be looking for:\n",
    "    - What is the OS?\n",
    "    - What services/ports are running on the machine?\n",
    "\n",
    "**Connecting to the target**\n",
    "- Try to connect to the open ports/services\n",
    "    - Example: netcat to 10.0.1.2 over port 123`nc -u 10.0.1.2 123` \n",
    "    - Example: ssh as bob to 10.0.1.2 over port 22 `ssh 10.0.1.2 -p 22 -u bob`\n",
    "- Try to listen for a connection to a port `nc -lvp 12345`\n",
    "    - Use this if you see another port is trying to send data after doing a wireshark scan\n",
    "\n",
    "**Look at the packets being sent over connection**\n",
    "- Open wireshark and find packets being sent to/from target IP\n",
    "    - `ip.addr == 10.0.1.2`\n",
    "- What you should be looking for:\n",
    "    - What kind of protocols are being used?\n",
    "    - Are there any new ports or services you can see being used to send data?\n",
    "    \n",
    "# Cracking Hashes\n",
    "\n",
    "**Hash-identifier**\n",
    "- This Kali tool allows you to find the type of hash used\n",
    "- Paste any unknown hash types here to find likely hash types\n",
    "\n",
    "**Decoders - What to do with identified hashes**\n",
    "- Many online tools for decoding Base64, MD5, etc.\n",
    "- Most just require pasting \n",
    "\n",
    "# Web-pages\n",
    "\n",
    "**HTTP**\n"
   ]
  }
 ],
 "metadata": {
  "kernelspec": {
   "display_name": "Python 3",
   "language": "python",
   "name": "python3"
  },
  "language_info": {
   "codemirror_mode": {
    "name": "ipython",
    "version": 3
   },
   "file_extension": ".py",
   "mimetype": "text/x-python",
   "name": "python",
   "nbconvert_exporter": "python",
   "pygments_lexer": "ipython3",
   "version": "3.6.3"
  }
 },
 "nbformat": 4,
 "nbformat_minor": 2
}
