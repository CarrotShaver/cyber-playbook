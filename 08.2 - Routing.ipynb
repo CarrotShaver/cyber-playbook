{
 "cells": [
  {
   "cell_type": "markdown",
   "metadata": {},
   "source": [
    "# IP Routing\n",
    "\n",
    "### Routing Protocols\n",
    "- Set of processes, algorithms, and messages that are used to exchange routing information and populate the routing table with the routing protocol's choice of best paths.\n",
    "- To route packets, router must know:\n",
    "    1. Destination Address\n",
    "    2. Neightbor routers from which it can use to learn about remote networks\n",
    "    3. Possible routes to all remote networks\n",
    "    4. The best route to each remote network\n",
    "    5. How to maintain and verify routing information\n",
    "**Dynamic Routing Protocols**\n",
    "- Interior Gateway Protocols (IGP): Works within the networks\n",
    "    - Distance Vector (RIP - Routing Information Protocol)\n",
    "        - RIP: Sends routing table every 30 seconds, and uses only hop count with a max hop count of 15\n",
    "            - Not good for large networks due to 15 hop limit\n",
    "    - Link State (OSPF - Open Shortest Path First, IS-IS - Intermediate System-to-Intermediate System)\n",
    "        - OSPF: Uses Dijkstra Algorithm for shortest path, with no limit on hop counts\n",
    "- Exterior Gateway Protocols (EGP): Works outside the network"
   ]
  }
 ],
 "metadata": {
  "kernelspec": {
   "display_name": "Python 3",
   "language": "python",
   "name": "python3"
  },
  "language_info": {
   "codemirror_mode": {
    "name": "ipython",
    "version": 3
   },
   "file_extension": ".py",
   "mimetype": "text/x-python",
   "name": "python",
   "nbconvert_exporter": "python",
   "pygments_lexer": "ipython3",
   "version": "3.6.3"
  }
 },
 "nbformat": 4,
 "nbformat_minor": 2
}
