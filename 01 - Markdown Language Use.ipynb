{
 "cells": [
  {
   "cell_type": "code",
   "execution_count": null,
   "metadata": {
    "collapsed": true
   },
   "outputs": [],
   "source": [
    "# Large Title\n",
    "## Smaller Title\n",
    "\n",
    "Normal Text\n",
    "\n",
    "*Italic Text*\n",
    "\n",
    "- Level 1\n",
    "    - Level 2    \n",
    "        - Level 3\n",
    "\n",
    "Code type text can be written with ``` characters\n",
    "        \n",
    "```\n",
    "def hello():\n",
    "    print(hello)\n",
    "```\n",
    "\n",
    "[Link Type Text](https://www.google.com)\n",
    "\n",
    "[Markdown Language Syntax](https://help.github.com/articles/basic-writing-and-formatting-syntax/)"
   ]
  }
 ],
 "metadata": {
  "kernelspec": {
   "display_name": "Python 3",
   "language": "python",
   "name": "python3"
  },
  "language_info": {
   "codemirror_mode": {
    "name": "ipython",
    "version": 3
   },
   "file_extension": ".py",
   "mimetype": "text/x-python",
   "name": "python",
   "nbconvert_exporter": "python",
   "pygments_lexer": "ipython3",
   "version": "3.6.3"
  }
 },
 "nbformat": 4,
 "nbformat_minor": 2
}
