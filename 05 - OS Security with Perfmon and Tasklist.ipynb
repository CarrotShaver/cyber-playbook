{
 "cells": [
  {
   "cell_type": "code",
   "execution_count": null,
   "metadata": {
    "collapsed": true
   },
   "outputs": [],
   "source": [
    "### Windows\n",
    "- Performance Monitor Tool\n",
    "    - Can monitor in realtime various data sets, and add more to monitor\n",
    "    - Create new Data Collector Set\n",
    "        - Create description and name\n",
    "        - Choose the data sets to be monitored with Event Trace Providers\n",
    "        - Can be scheduled to run and generate a data set at certain times\n",
    "        \n",
    "- Setting up a data Collection Set for a new System or Server\n",
    "    - \n",
    "    \n",
    "- Task Manager\n",
    "    - View process, applications, services and how much of the system resources they are using\n",
    "    - View Resource monitor, check and suspend processes\n",
    "    - Allocate more or less clock cycles with priority"
   ]
  }
 ],
 "metadata": {
  "kernelspec": {
   "display_name": "Python 3",
   "language": "python",
   "name": "python3"
  },
  "language_info": {
   "codemirror_mode": {
    "name": "ipython",
    "version": 3
   },
   "file_extension": ".py",
   "mimetype": "text/x-python",
   "name": "python",
   "nbconvert_exporter": "python",
   "pygments_lexer": "ipython3",
   "version": "3.6.3"
  }
 },
 "nbformat": 4,
 "nbformat_minor": 2
}
