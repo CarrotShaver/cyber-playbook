{
 "cells": [
  {
   "cell_type": "code",
   "execution_count": null,
   "metadata": {
    "collapsed": true
   },
   "outputs": [],
   "source": [
    "# Scripting in notepad with .bat (batch) files\n",
    "\n",
    "1. Make sure that in the file settings you disable the \"Hide file extensions\".  Allows a user to change a file type or extension\n",
    "\n",
    "2. Notepad files can then be saved as a .bat filetype in order to be saved as an executable batch file\n",
    "\n",
    "3. Commands are typed into the batch file using edit (or could begin as a .text then \"save as\" a .bat)\n",
    "\n",
    "\n",
    "### Useful tips:\n",
    "    - PAUSE line command can be used to allow a user to view a process that is running or some query information\n",
    "        (ex. ipconfig \\n PAUSE ) would allow user to see the ipconfig information in a terminal window\n",
    "    - Can append queries to files with >> command (ex. ipconfig /all >> text.txt)\n",
    "    - SET: Find user specific variables using the SET command\n",
    "        - Set command will list variables like the user path or user profile (ex. dir %userprofile%\\Documents\\)\n",
    "        - This will allow a script to be non-specific, and can be run with global variables on any windows system\n",
    "        \n",
    "### Batch Script - Diagnostics Report\n",
    "\n",
    "[Diagnostics Report on GitHub](https://github.com/CarrotShaver/BatchDiagnosticReport)\n",
    "\n",
    "[Scripting Challenge](https://gist.github.com/jaywon/2e66ff03f662e58f088e3b15e2cb6e89)\n",
    "\n",
    "### When should scripting be used?\n",
    "\n",
    "Anytime something can be automated, or could be run multiple times\n",
    "Anytime you could create a helpful tool for yourself or others\n"
   ]
  }
 ],
 "metadata": {
  "kernelspec": {
   "display_name": "Python 3",
   "language": "python",
   "name": "python3"
  },
  "language_info": {
   "codemirror_mode": {
    "name": "ipython",
    "version": 3
   },
   "file_extension": ".py",
   "mimetype": "text/x-python",
   "name": "python",
   "nbconvert_exporter": "python",
   "pygments_lexer": "ipython3",
   "version": "3.6.3"
  }
 },
 "nbformat": 4,
 "nbformat_minor": 2
}
