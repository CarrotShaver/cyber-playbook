{
 "cells": [
  {
   "cell_type": "markdown",
   "metadata": {},
   "source": [
    "# CMD Windows\n",
    "ping\n",
    "- Used to check an IP address by sending packets of data\n",
    "netstat -ano\n",
    "- Used to check all open ports on the host\n",
    "tracert \"domain\"\n",
    "- Trace routes a domain to its address\n",
    "\n",
    "# Wireshark\n",
    "\n",
    "# Cisco Packet Tracer\n",
    "### Router CLI Commands\n",
    "```\n",
    "logging synchronous\n",
    "```\n",
    "   - Makes output wait for typing to finish so that it doesn't interfere with commands being written\n",
    "```\n",
    "enable password **PASS**\n",
    "```\n",
    "   - Places a password on the enable function as specified\n",
    "```\n",
    "access-list **NAME** permit host 10.0.0.1\n",
    "```\n",
    "   - Creates an access list with NAME and permits a host on that list\n",
    "```\n",
    "access-class **NAME** in\n",
    "```\n",
    "   - Activates an access-list with NAME\n",
    "```\n",
    "show access-lists\n",
    "```\n",
    "   - Shows the access-list configs on the router, must have exited to main\n",
    "```\n",
    "config t\n",
    "```\n",
    "   - Changes to configuration mode which allows for access-list commands\n",
    "```\n",
    "line vty 0 15\n",
    "```\n",
    "   - Opens all telnet connections\n",
    "```\n",
    "password **PASS**\n",
    "```\n",
    "   - Creates a password for the telnet (after using the line vty 0 command)"
   ]
  }
 ],
 "metadata": {
  "kernelspec": {
   "display_name": "Python 3",
   "language": "python",
   "name": "python3"
  },
  "language_info": {
   "codemirror_mode": {
    "name": "ipython",
    "version": 3
   },
   "file_extension": ".py",
   "mimetype": "text/x-python",
   "name": "python",
   "nbconvert_exporter": "python",
   "pygments_lexer": "ipython3",
   "version": "3.6.3"
  }
 },
 "nbformat": 4,
 "nbformat_minor": 2
}
