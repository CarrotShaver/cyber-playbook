{
 "cells": [
  {
   "cell_type": "markdown",
   "metadata": {},
   "source": [
    "# CMD Windows\n",
    "ping\n",
    "- Used to check an IP address by sending packets of data\n",
    "netstat -ano\n",
    "- Used to check all open ports on the host\n",
    "tracert \"domain\"\n",
    "- Trace routes a domain to its address\n",
    "\n",
    "# Wireshark"
   ]
  }
 ],
 "metadata": {
  "kernelspec": {
   "display_name": "Python 3",
   "language": "python",
   "name": "python3"
  },
  "language_info": {
   "codemirror_mode": {
    "name": "ipython",
    "version": 3
   },
   "file_extension": ".py",
   "mimetype": "text/x-python",
   "name": "python",
   "nbconvert_exporter": "python",
   "pygments_lexer": "ipython3",
   "version": "3.6.3"
  }
 },
 "nbformat": 4,
 "nbformat_minor": 2
}
